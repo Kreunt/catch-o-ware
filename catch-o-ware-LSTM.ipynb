{
 "cells": [
  {
   "cell_type": "markdown",
   "metadata": {},
   "source": [
    "In this notebook, we will try to train an LSTM model using API-Calls from android applications.\n",
    "\n",
    "<h1>Loading Data</h1>"
   ]
  },
  {
   "cell_type": "markdown",
   "metadata": {},
   "source": [
    "<h1>Regular Run Start</h1>\n",
    "Up from here, you can find the necessary code to prepare the data to train using API-Calls.\n",
    "For convenience, here on out we will use the already exported data."
   ]
  },
  {
   "cell_type": "code",
   "execution_count": 37,
   "metadata": {},
   "outputs": [
    {
     "data": {
      "text/plain": [
       "detection\n",
       "trojan        7793\n",
       "adware        4545\n",
       "benign        4296\n",
       "other          766\n",
       "hacktool       261\n",
       "spyware        255\n",
       "exploit        222\n",
       "rootkit         43\n",
       "ransomware       5\n",
       "Name: count, dtype: int64"
      ]
     },
     "execution_count": 37,
     "metadata": {},
     "output_type": "execute_result"
    }
   ],
   "source": [
    "import numpy as np\n",
    "import pandas as pd\n",
    "from tensorflow.keras.preprocessing.text import Tokenizer\n",
    "from tensorflow.keras.preprocessing.sequence import pad_sequences\n",
    "from sklearn.preprocessing import LabelEncoder\n",
    "import joblib\n",
    "from tensorflow.keras.utils import to_categorical\n",
    "\n",
    "\n",
    "# Read the CSV file\n",
    "df = pd.read_csv('./api_calls_labeled_dataset.csv')\n",
    "df = df.sample(frac=1, random_state=42).reset_index(drop=True)\n",
    "\n",
    "df['detection'].value_counts()"
   ]
  },
  {
   "cell_type": "code",
   "execution_count": 38,
   "metadata": {},
   "outputs": [
    {
     "name": "stderr",
     "output_type": "stream",
     "text": [
      "/tmp/ipykernel_7044/3879448589.py:6: DeprecationWarning: DataFrameGroupBy.apply operated on the grouping columns. This behavior is deprecated, and in a future version of pandas the grouping columns will be excluded from the operation. Either pass `include_groups=False` to exclude the groupings or explicitly select the grouping columns after groupby to silence this warning.\n",
      "  other_samples = df[~df['detection'].isin(['benign', 'trojan', 'adware'])].groupby('detection').apply(lambda x: x.sample(n=200, random_state=42)).reset_index(drop=True)\n"
     ]
    },
    {
     "data": {
      "text/plain": [
       "detection\n",
       "benign      1000\n",
       "trojan       400\n",
       "adware       300\n",
       "exploit      200\n",
       "hacktool     200\n",
       "spyware      200\n",
       "Name: count, dtype: int64"
      ]
     },
     "execution_count": 38,
     "metadata": {},
     "output_type": "execute_result"
    }
   ],
   "source": [
    "df = df[~df['detection'].isin(['ransomware', 'rootkit', 'other'])]\n",
    "\n",
    "benign_samples = df[df['detection'] == 'benign'].sample(n=1000, random_state=42)\n",
    "trojan_samples = df[df['detection'] == 'trojan'].sample(n=400, random_state=42)\n",
    "adware_samples = df[df['detection'] == 'adware'].sample(n=300, random_state=42)\n",
    "other_samples = df[~df['detection'].isin(['benign', 'trojan', 'adware'])].groupby('detection').apply(lambda x: x.sample(n=200, random_state=42)).reset_index(drop=True)\n",
    "\n",
    "df = pd.concat([benign_samples, other_samples, trojan_samples, adware_samples]).reset_index(drop=True)\n",
    "df['detection'].value_counts()\n"
   ]
  },
  {
   "cell_type": "code",
   "execution_count": 42,
   "metadata": {},
   "outputs": [
    {
     "data": {
      "text/plain": [
       "detection\n",
       "benign      1000\n",
       "trojan       400\n",
       "adware       300\n",
       "exploit      200\n",
       "hacktool     200\n",
       "spyware      200\n",
       "Name: count, dtype: int64"
      ]
     },
     "execution_count": 42,
     "metadata": {},
     "output_type": "execute_result"
    }
   ],
   "source": [
    "import numpy as np\n",
    "import pandas as pd\n",
    "from tensorflow.keras.preprocessing.text import Tokenizer\n",
    "from tensorflow.keras.preprocessing.sequence import pad_sequences\n",
    "from sklearn.preprocessing import LabelEncoder\n",
    "import joblib\n",
    "from tensorflow.keras.utils import to_categorical\n",
    "\n",
    "df = pd.read_csv('./fine-tuned_models/lstm/catch_o_ware_data-api-call.csv')\n",
    "\n",
    "df['detection'].value_counts()\n",
    "\n"
   ]
  },
  {
   "cell_type": "code",
   "execution_count": 39,
   "metadata": {},
   "outputs": [],
   "source": [
    "# Initialize the LabelEncoder\n",
    "label_encoder = LabelEncoder()\n",
    "\n",
    "# Fit and transform the labels\n",
    "labels = label_encoder.fit_transform(df['detection'])\n",
    "\n",
    "# Tokenize the API call sequences\n",
    "tokenizer = Tokenizer()\n",
    "tokenizer.fit_on_texts(df['api_calls'])\n",
    "\n",
    "# Convert sequences to numerical representations\n",
    "sequences = tokenizer.texts_to_sequences(df['api_calls'])\n",
    "\n",
    "# Define the maximum sequence length\n",
    "max_seq_length = 500\n",
    "\n",
    "# Pad the sequences\n",
    "padded_sequences = pad_sequences(sequences, maxlen=max_seq_length, padding='post')\n",
    "\n",
    "categorical_labels = to_categorical(labels)\n"
   ]
  },
  {
   "cell_type": "markdown",
   "metadata": {},
   "source": [
    "<h1> Save the label_encoder and tokenizer </h1>"
   ]
  },
  {
   "cell_type": "code",
   "execution_count": 42,
   "metadata": {},
   "outputs": [
    {
     "data": {
      "text/plain": [
       "['tokenizer.pkl']"
      ]
     },
     "execution_count": 42,
     "metadata": {},
     "output_type": "execute_result"
    }
   ],
   "source": [
    "# Fit and transform the labels\n",
    "label_encoder = LabelEncoder()\n",
    "labels = label_encoder.fit_transform(df['detection'])\n",
    "\n",
    "# Tokenize the API call sequences\n",
    "tokenizer = Tokenizer()\n",
    "tokenizer.fit_on_texts(df['api_calls'])\n",
    "\n",
    "# Save the label encoder and tokenizer\n",
    "joblib.dump(label_encoder, 'label_encoder.pkl')\n",
    "joblib.dump(tokenizer, 'tokenizer.pkl')\n"
   ]
  },
  {
   "cell_type": "markdown",
   "metadata": {},
   "source": [
    "<h1> Load them  </h1>"
   ]
  },
  {
   "cell_type": "code",
   "execution_count": 43,
   "metadata": {},
   "outputs": [],
   "source": [
    "import joblib\n",
    "\n",
    "# Load the label encoder and tokenizer\n",
    "label_encoder = joblib.load('./Models/lstm-model/label_encoder.pkl')\n",
    "tokenizer = joblib.load('./Models/lstm-model/tokenizer.pkl')\n",
    "\n",
    "# Transform the labels and sequences using the loaded encoders\n",
    "labels = label_encoder.transform(df['detection'])\n",
    "sequences = tokenizer.texts_to_sequences(df['api_calls'])\n",
    "\n",
    "# Define the maximum sequence length and pad the sequences\n",
    "max_seq_length = 500\n",
    "padded_sequences = pad_sequences(sequences, maxlen=max_seq_length, padding='post')\n",
    "\n",
    "categorical_labels = to_categorical(labels)\n"
   ]
  },
  {
   "cell_type": "markdown",
   "metadata": {},
   "source": [
    "<h1>Training LSTM</h1>"
   ]
  },
  {
   "cell_type": "code",
   "execution_count": 44,
   "metadata": {},
   "outputs": [
    {
     "name": "stdout",
     "output_type": "stream",
     "text": [
      "Validation set shape: (460, 500)\n",
      "Training labels shape: (1840, 6)\n",
      "Validation labels shape: (460, 6)\n"
     ]
    }
   ],
   "source": [
    "from sklearn.model_selection import train_test_split\n",
    "\n",
    "# Split the data into training and validation sets\n",
    "X_train, X_val, y_train, y_val = train_test_split(padded_sequences, categorical_labels, test_size=0.2, random_state=42, stratify=categorical_labels)\n",
    "print(\"Validation set shape:\", X_val.shape)\n",
    "print(\"Training labels shape:\", y_train.shape)\n",
    "print(\"Validation labels shape:\", y_val.shape)\n"
   ]
  },
  {
   "cell_type": "code",
   "execution_count": 34,
   "metadata": {},
   "outputs": [],
   "source": [
    "from tensorflow.keras.models import Sequential\n",
    "from tensorflow.keras.layers import Embedding, LSTM, Dense, Dropout\n",
    "from keras.regularizers import l2\n",
    "\n",
    "# Define the LSTM model\n",
    "model = Sequential()\n",
    "model.add(Embedding(input_dim=len(tokenizer.word_index) + 1, output_dim=64))\n",
    "\n",
    "model.add(LSTM(96, return_sequences=True, kernel_regularizer=l2(0.01)))\n",
    "model.add(Dropout(0.2))\n",
    "\n",
    "model.add(LSTM(32, kernel_regularizer=l2(0.01)))\n",
    "model.add(Dropout(0.2))\n",
    "\n",
    "model.add(Dense(len(label_encoder.classes_), activation='softmax'))\n",
    "\n",
    "\n",
    "# Compile the model\n",
    "model.compile(optimizer='adam', loss='categorical_crossentropy', metrics=['accuracy'])"
   ]
  },
  {
   "cell_type": "code",
   "execution_count": 35,
   "metadata": {},
   "outputs": [
    {
     "name": "stdout",
     "output_type": "stream",
     "text": [
      "Epoch 1/50\n",
      "\u001b[1m29/29\u001b[0m \u001b[32m━━━━━━━━━━━━━━━━━━━━\u001b[0m\u001b[37m\u001b[0m \u001b[1m4s\u001b[0m 97ms/step - accuracy: 0.3729 - loss: 3.6016 - val_accuracy: 0.4348 - val_loss: 2.7107 - learning_rate: 0.0010\n",
      "Epoch 2/50\n",
      "\u001b[1m29/29\u001b[0m \u001b[32m━━━━━━━━━━━━━━━━━━━━\u001b[0m\u001b[37m\u001b[0m \u001b[1m3s\u001b[0m 89ms/step - accuracy: 0.4493 - loss: 2.5252 - val_accuracy: 0.5152 - val_loss: 1.8861 - learning_rate: 0.0010\n",
      "Epoch 3/50\n",
      "\u001b[1m29/29\u001b[0m \u001b[32m━━━━━━━━━━━━━━━━━━━━\u001b[0m\u001b[37m\u001b[0m \u001b[1m3s\u001b[0m 92ms/step - accuracy: 0.5890 - loss: 1.7125 - val_accuracy: 0.5522 - val_loss: 1.7513 - learning_rate: 0.0010\n",
      "Epoch 4/50\n",
      "\u001b[1m29/29\u001b[0m \u001b[32m━━━━━━━━━━━━━━━━━━━━\u001b[0m\u001b[37m\u001b[0m \u001b[1m2s\u001b[0m 84ms/step - accuracy: 0.6372 - loss: 1.4156 - val_accuracy: 0.6674 - val_loss: 1.1254 - learning_rate: 0.0010\n",
      "Epoch 5/50\n",
      "\u001b[1m29/29\u001b[0m \u001b[32m━━━━━━━━━━━━━━━━━━━━\u001b[0m\u001b[37m\u001b[0m \u001b[1m2s\u001b[0m 76ms/step - accuracy: 0.7379 - loss: 0.9884 - val_accuracy: 0.6978 - val_loss: 0.9936 - learning_rate: 0.0010\n",
      "Epoch 6/50\n",
      "\u001b[1m29/29\u001b[0m \u001b[32m━━━━━━━━━━━━━━━━━━━━\u001b[0m\u001b[37m\u001b[0m \u001b[1m2s\u001b[0m 83ms/step - accuracy: 0.7707 - loss: 0.8363 - val_accuracy: 0.6761 - val_loss: 0.9975 - learning_rate: 0.0010\n",
      "Epoch 7/50\n",
      "\u001b[1m29/29\u001b[0m \u001b[32m━━━━━━━━━━━━━━━━━━━━\u001b[0m\u001b[37m\u001b[0m \u001b[1m2s\u001b[0m 82ms/step - accuracy: 0.7645 - loss: 0.7684 - val_accuracy: 0.7196 - val_loss: 0.8551 - learning_rate: 0.0010\n",
      "Epoch 8/50\n",
      "\u001b[1m29/29\u001b[0m \u001b[32m━━━━━━━━━━━━━━━━━━━━\u001b[0m\u001b[37m\u001b[0m \u001b[1m2s\u001b[0m 83ms/step - accuracy: 0.7841 - loss: 0.7133 - val_accuracy: 0.7522 - val_loss: 0.8013 - learning_rate: 0.0010\n",
      "Epoch 9/50\n",
      "\u001b[1m29/29\u001b[0m \u001b[32m━━━━━━━━━━━━━━━━━━━━\u001b[0m\u001b[37m\u001b[0m \u001b[1m3s\u001b[0m 90ms/step - accuracy: 0.8202 - loss: 0.5700 - val_accuracy: 0.7261 - val_loss: 0.8243 - learning_rate: 0.0010\n",
      "Epoch 10/50\n",
      "\u001b[1m29/29\u001b[0m \u001b[32m━━━━━━━━━━━━━━━━━━━━\u001b[0m\u001b[37m\u001b[0m \u001b[1m2s\u001b[0m 80ms/step - accuracy: 0.8089 - loss: 0.5208 - val_accuracy: 0.7696 - val_loss: 0.7130 - learning_rate: 0.0010\n",
      "Epoch 11/50\n",
      "\u001b[1m29/29\u001b[0m \u001b[32m━━━━━━━━━━━━━━━━━━━━\u001b[0m\u001b[37m\u001b[0m \u001b[1m2s\u001b[0m 85ms/step - accuracy: 0.8269 - loss: 0.5021 - val_accuracy: 0.7435 - val_loss: 0.7085 - learning_rate: 0.0010\n",
      "Epoch 12/50\n",
      "\u001b[1m29/29\u001b[0m \u001b[32m━━━━━━━━━━━━━━━━━━━━\u001b[0m\u001b[37m\u001b[0m \u001b[1m2s\u001b[0m 84ms/step - accuracy: 0.8503 - loss: 0.4471 - val_accuracy: 0.8217 - val_loss: 0.6726 - learning_rate: 0.0010\n",
      "Epoch 13/50\n",
      "\u001b[1m29/29\u001b[0m \u001b[32m━━━━━━━━━━━━━━━━━━━━\u001b[0m\u001b[37m\u001b[0m \u001b[1m2s\u001b[0m 80ms/step - accuracy: 0.8900 - loss: 0.4214 - val_accuracy: 0.8522 - val_loss: 0.6363 - learning_rate: 0.0010\n",
      "Epoch 14/50\n",
      "\u001b[1m29/29\u001b[0m \u001b[32m━━━━━━━━━━━━━━━━━━━━\u001b[0m\u001b[37m\u001b[0m \u001b[1m2s\u001b[0m 74ms/step - accuracy: 0.9311 - loss: 0.3563 - val_accuracy: 0.8239 - val_loss: 0.6309 - learning_rate: 0.0010\n",
      "Epoch 15/50\n",
      "\u001b[1m29/29\u001b[0m \u001b[32m━━━━━━━━━━━━━━━━━━━━\u001b[0m\u001b[37m\u001b[0m \u001b[1m2s\u001b[0m 75ms/step - accuracy: 0.8919 - loss: 0.4320 - val_accuracy: 0.8587 - val_loss: 0.5833 - learning_rate: 0.0010\n",
      "Epoch 16/50\n",
      "\u001b[1m29/29\u001b[0m \u001b[32m━━━━━━━━━━━━━━━━━━━━\u001b[0m\u001b[37m\u001b[0m \u001b[1m2s\u001b[0m 78ms/step - accuracy: 0.9466 - loss: 0.3116 - val_accuracy: 0.8370 - val_loss: 0.7028 - learning_rate: 0.0010\n",
      "Epoch 17/50\n",
      "\u001b[1m29/29\u001b[0m \u001b[32m━━━━━━━━━━━━━━━━━━━━\u001b[0m\u001b[37m\u001b[0m \u001b[1m2s\u001b[0m 80ms/step - accuracy: 0.9513 - loss: 0.3000 - val_accuracy: 0.8609 - val_loss: 0.5854 - learning_rate: 0.0010\n",
      "Epoch 18/50\n",
      "\u001b[1m29/29\u001b[0m \u001b[32m━━━━━━━━━━━━━━━━━━━━\u001b[0m\u001b[37m\u001b[0m \u001b[1m2s\u001b[0m 73ms/step - accuracy: 0.9458 - loss: 0.2765 - val_accuracy: 0.8304 - val_loss: 0.7207 - learning_rate: 5.0000e-04\n",
      "Epoch 19/50\n",
      "\u001b[1m29/29\u001b[0m \u001b[32m━━━━━━━━━━━━━━━━━━━━\u001b[0m\u001b[37m\u001b[0m \u001b[1m2s\u001b[0m 68ms/step - accuracy: 0.9481 - loss: 0.2829 - val_accuracy: 0.8848 - val_loss: 0.5772 - learning_rate: 5.0000e-04\n",
      "Epoch 20/50\n",
      "\u001b[1m29/29\u001b[0m \u001b[32m━━━━━━━━━━━━━━━━━━━━\u001b[0m\u001b[37m\u001b[0m \u001b[1m2s\u001b[0m 75ms/step - accuracy: 0.9690 - loss: 0.2146 - val_accuracy: 0.8478 - val_loss: 0.6800 - learning_rate: 5.0000e-04\n",
      "Epoch 21/50\n",
      "\u001b[1m29/29\u001b[0m \u001b[32m━━━━━━━━━━━━━━━━━━━━\u001b[0m\u001b[37m\u001b[0m \u001b[1m2s\u001b[0m 81ms/step - accuracy: 0.9612 - loss: 0.2519 - val_accuracy: 0.8630 - val_loss: 0.6251 - learning_rate: 5.0000e-04\n",
      "Epoch 22/50\n",
      "\u001b[1m29/29\u001b[0m \u001b[32m━━━━━━━━━━━━━━━━━━━━\u001b[0m\u001b[37m\u001b[0m \u001b[1m2s\u001b[0m 75ms/step - accuracy: 0.9764 - loss: 0.2108 - val_accuracy: 0.8957 - val_loss: 0.5309 - learning_rate: 2.5000e-04\n",
      "Epoch 23/50\n",
      "\u001b[1m29/29\u001b[0m \u001b[32m━━━━━━━━━━━━━━━━━━━━\u001b[0m\u001b[37m\u001b[0m \u001b[1m2s\u001b[0m 77ms/step - accuracy: 0.9837 - loss: 0.1834 - val_accuracy: 0.8935 - val_loss: 0.5122 - learning_rate: 2.5000e-04\n",
      "Epoch 24/50\n",
      "\u001b[1m29/29\u001b[0m \u001b[32m━━━━━━━━━━━━━━━━━━━━\u001b[0m\u001b[37m\u001b[0m \u001b[1m2s\u001b[0m 83ms/step - accuracy: 0.9821 - loss: 0.1818 - val_accuracy: 0.9000 - val_loss: 0.5013 - learning_rate: 2.5000e-04\n",
      "Epoch 25/50\n",
      "\u001b[1m29/29\u001b[0m \u001b[32m━━━━━━━━━━━━━━━━━━━━\u001b[0m\u001b[37m\u001b[0m \u001b[1m2s\u001b[0m 76ms/step - accuracy: 0.9830 - loss: 0.1704 - val_accuracy: 0.8957 - val_loss: 0.5075 - learning_rate: 2.5000e-04\n",
      "Epoch 26/50\n",
      "\u001b[1m29/29\u001b[0m \u001b[32m━━━━━━━━━━━━━━━━━━━━\u001b[0m\u001b[37m\u001b[0m \u001b[1m2s\u001b[0m 81ms/step - accuracy: 0.9820 - loss: 0.1682 - val_accuracy: 0.8957 - val_loss: 0.5186 - learning_rate: 2.5000e-04\n",
      "Epoch 27/50\n",
      "\u001b[1m29/29\u001b[0m \u001b[32m━━━━━━━━━━━━━━━━━━━━\u001b[0m\u001b[37m\u001b[0m \u001b[1m2s\u001b[0m 80ms/step - accuracy: 0.9844 - loss: 0.1525 - val_accuracy: 0.8978 - val_loss: 0.5134 - learning_rate: 1.2500e-04\n",
      "Epoch 28/50\n",
      "\u001b[1m29/29\u001b[0m \u001b[32m━━━━━━━━━━━━━━━━━━━━\u001b[0m\u001b[37m\u001b[0m \u001b[1m2s\u001b[0m 80ms/step - accuracy: 0.9861 - loss: 0.1510 - val_accuracy: 0.8957 - val_loss: 0.5140 - learning_rate: 1.2500e-04\n",
      "Epoch 29/50\n",
      "\u001b[1m29/29\u001b[0m \u001b[32m━━━━━━━━━━━━━━━━━━━━\u001b[0m\u001b[37m\u001b[0m \u001b[1m2s\u001b[0m 76ms/step - accuracy: 0.9864 - loss: 0.1421 - val_accuracy: 0.8957 - val_loss: 0.5156 - learning_rate: 6.2500e-05\n",
      "Epoch 30/50\n",
      "\u001b[1m29/29\u001b[0m \u001b[32m━━━━━━━━━━━━━━━━━━━━\u001b[0m\u001b[37m\u001b[0m \u001b[1m2s\u001b[0m 77ms/step - accuracy: 0.9874 - loss: 0.1465 - val_accuracy: 0.8957 - val_loss: 0.5151 - learning_rate: 6.2500e-05\n",
      "Epoch 31/50\n",
      "\u001b[1m29/29\u001b[0m \u001b[32m━━━━━━━━━━━━━━━━━━━━\u001b[0m\u001b[37m\u001b[0m \u001b[1m2s\u001b[0m 82ms/step - accuracy: 0.9863 - loss: 0.1481 - val_accuracy: 0.8957 - val_loss: 0.5144 - learning_rate: 3.1250e-05\n",
      "Epoch 32/50\n",
      "\u001b[1m29/29\u001b[0m \u001b[32m━━━━━━━━━━━━━━━━━━━━\u001b[0m\u001b[37m\u001b[0m \u001b[1m2s\u001b[0m 78ms/step - accuracy: 0.9891 - loss: 0.1378 - val_accuracy: 0.8957 - val_loss: 0.5150 - learning_rate: 3.1250e-05\n",
      "Epoch 33/50\n",
      "\u001b[1m29/29\u001b[0m \u001b[32m━━━━━━━━━━━━━━━━━━━━\u001b[0m\u001b[37m\u001b[0m \u001b[1m2s\u001b[0m 76ms/step - accuracy: 0.9831 - loss: 0.1505 - val_accuracy: 0.8957 - val_loss: 0.5147 - learning_rate: 1.5625e-05\n",
      "Epoch 34/50\n",
      "\u001b[1m29/29\u001b[0m \u001b[32m━━━━━━━━━━━━━━━━━━━━\u001b[0m\u001b[37m\u001b[0m \u001b[1m2s\u001b[0m 78ms/step - accuracy: 0.9883 - loss: 0.1392 - val_accuracy: 0.8957 - val_loss: 0.5146 - learning_rate: 1.5625e-05\n",
      "Epoch 35/50\n",
      "\u001b[1m29/29\u001b[0m \u001b[32m━━━━━━━━━━━━━━━━━━━━\u001b[0m\u001b[37m\u001b[0m \u001b[1m2s\u001b[0m 78ms/step - accuracy: 0.9873 - loss: 0.1400 - val_accuracy: 0.8957 - val_loss: 0.5148 - learning_rate: 7.8125e-06\n",
      "Epoch 36/50\n",
      "\u001b[1m29/29\u001b[0m \u001b[32m━━━━━━━━━━━━━━━━━━━━\u001b[0m\u001b[37m\u001b[0m \u001b[1m2s\u001b[0m 79ms/step - accuracy: 0.9821 - loss: 0.1600 - val_accuracy: 0.8957 - val_loss: 0.5151 - learning_rate: 7.8125e-06\n",
      "Epoch 37/50\n",
      "\u001b[1m29/29\u001b[0m \u001b[32m━━━━━━━━━━━━━━━━━━━━\u001b[0m\u001b[37m\u001b[0m \u001b[1m3s\u001b[0m 95ms/step - accuracy: 0.9903 - loss: 0.1322 - val_accuracy: 0.8957 - val_loss: 0.5151 - learning_rate: 3.9063e-06\n",
      "Epoch 38/50\n",
      "\u001b[1m29/29\u001b[0m \u001b[32m━━━━━━━━━━━━━━━━━━━━\u001b[0m\u001b[37m\u001b[0m \u001b[1m2s\u001b[0m 82ms/step - accuracy: 0.9845 - loss: 0.1554 - val_accuracy: 0.8957 - val_loss: 0.5153 - learning_rate: 3.9063e-06\n",
      "Epoch 39/50\n",
      "\u001b[1m29/29\u001b[0m \u001b[32m━━━━━━━━━━━━━━━━━━━━\u001b[0m\u001b[37m\u001b[0m \u001b[1m2s\u001b[0m 83ms/step - accuracy: 0.9838 - loss: 0.1512 - val_accuracy: 0.8957 - val_loss: 0.5153 - learning_rate: 1.9531e-06\n",
      "Epoch 40/50\n",
      "\u001b[1m29/29\u001b[0m \u001b[32m━━━━━━━━━━━━━━━━━━━━\u001b[0m\u001b[37m\u001b[0m \u001b[1m2s\u001b[0m 82ms/step - accuracy: 0.9843 - loss: 0.1417 - val_accuracy: 0.8957 - val_loss: 0.5153 - learning_rate: 1.9531e-06\n",
      "Epoch 41/50\n",
      "\u001b[1m29/29\u001b[0m \u001b[32m━━━━━━━━━━━━━━━━━━━━\u001b[0m\u001b[37m\u001b[0m \u001b[1m2s\u001b[0m 80ms/step - accuracy: 0.9857 - loss: 0.1508 - val_accuracy: 0.8957 - val_loss: 0.5153 - learning_rate: 9.7656e-07\n",
      "Epoch 42/50\n",
      "\u001b[1m29/29\u001b[0m \u001b[32m━━━━━━━━━━━━━━━━━━━━\u001b[0m\u001b[37m\u001b[0m \u001b[1m2s\u001b[0m 82ms/step - accuracy: 0.9870 - loss: 0.1423 - val_accuracy: 0.8957 - val_loss: 0.5154 - learning_rate: 9.7656e-07\n",
      "Epoch 43/50\n",
      "\u001b[1m29/29\u001b[0m \u001b[32m━━━━━━━━━━━━━━━━━━━━\u001b[0m\u001b[37m\u001b[0m \u001b[1m3s\u001b[0m 87ms/step - accuracy: 0.9871 - loss: 0.1412 - val_accuracy: 0.8957 - val_loss: 0.5154 - learning_rate: 4.8828e-07\n",
      "Epoch 44/50\n",
      "\u001b[1m29/29\u001b[0m \u001b[32m━━━━━━━━━━━━━━━━━━━━\u001b[0m\u001b[37m\u001b[0m \u001b[1m2s\u001b[0m 86ms/step - accuracy: 0.9831 - loss: 0.1460 - val_accuracy: 0.8957 - val_loss: 0.5154 - learning_rate: 4.8828e-07\n",
      "Epoch 45/50\n",
      "\u001b[1m29/29\u001b[0m \u001b[32m━━━━━━━━━━━━━━━━━━━━\u001b[0m\u001b[37m\u001b[0m \u001b[1m2s\u001b[0m 86ms/step - accuracy: 0.9867 - loss: 0.1422 - val_accuracy: 0.8957 - val_loss: 0.5154 - learning_rate: 2.4414e-07\n",
      "Epoch 46/50\n",
      "\u001b[1m29/29\u001b[0m \u001b[32m━━━━━━━━━━━━━━━━━━━━\u001b[0m\u001b[37m\u001b[0m \u001b[1m3s\u001b[0m 92ms/step - accuracy: 0.9869 - loss: 0.1412 - val_accuracy: 0.8957 - val_loss: 0.5154 - learning_rate: 2.4414e-07\n",
      "Epoch 47/50\n",
      "\u001b[1m29/29\u001b[0m \u001b[32m━━━━━━━━━━━━━━━━━━━━\u001b[0m\u001b[37m\u001b[0m \u001b[1m2s\u001b[0m 85ms/step - accuracy: 0.9840 - loss: 0.1508 - val_accuracy: 0.8957 - val_loss: 0.5154 - learning_rate: 1.2207e-07\n",
      "Epoch 48/50\n",
      "\u001b[1m29/29\u001b[0m \u001b[32m━━━━━━━━━━━━━━━━━━━━\u001b[0m\u001b[37m\u001b[0m \u001b[1m2s\u001b[0m 81ms/step - accuracy: 0.9863 - loss: 0.1459 - val_accuracy: 0.8957 - val_loss: 0.5154 - learning_rate: 1.2207e-07\n",
      "Epoch 49/50\n",
      "\u001b[1m29/29\u001b[0m \u001b[32m━━━━━━━━━━━━━━━━━━━━\u001b[0m\u001b[37m\u001b[0m \u001b[1m2s\u001b[0m 85ms/step - accuracy: 0.9861 - loss: 0.1366 - val_accuracy: 0.8957 - val_loss: 0.5154 - learning_rate: 6.1035e-08\n",
      "Epoch 50/50\n",
      "\u001b[1m29/29\u001b[0m \u001b[32m━━━━━━━━━━━━━━━━━━━━\u001b[0m\u001b[37m\u001b[0m \u001b[1m2s\u001b[0m 83ms/step - accuracy: 0.9846 - loss: 0.1445 - val_accuracy: 0.8957 - val_loss: 0.5154 - learning_rate: 6.1035e-08\n"
     ]
    }
   ],
   "source": [
    "import tensorflow as tf\n",
    "# Train the model\n",
    "history = model.fit(X_train, y_train, epochs=50, batch_size=64, validation_data=(X_val, y_val), callbacks=[\n",
    "    #tf.keras.callbacks.EarlyStopping(monitor='val_loss', patience=3, restore_best_weights=True),\n",
    "    tf.keras.callbacks.ReduceLROnPlateau(factor=0.5, patience=2)\n",
    "])\n"
   ]
  },
  {
   "cell_type": "markdown",
   "metadata": {},
   "source": [
    "<h1> Fine-Tune </h1>"
   ]
  },
  {
   "cell_type": "markdown",
   "metadata": {},
   "source": [
    "<h3> Create trojan model </h3>"
   ]
  },
  {
   "cell_type": "code",
   "execution_count": null,
   "metadata": {},
   "outputs": [],
   "source": [
    "import numpy as np\n",
    "import pandas as pd\n",
    "from tensorflow.keras.preprocessing.text import Tokenizer\n",
    "from tensorflow.keras.preprocessing.sequence import pad_sequences\n",
    "\n",
    "\n",
    "# Read the CSV file\n",
    "df = pd.read_csv('api_calls_labeled_dataset.csv')\n",
    "\n",
    "# Set 'detection' to 'non-trojan' for all rows where it's not 'trojan'\n",
    "df.loc[df['detection'] != 'trojan', 'detection'] = 'non-trojan'\n",
    "\n",
    "# Initialize the binary labels\n",
    "labels = (df['detection'] == 'trojan').astype(int)\n",
    "\n",
    "# Tokenize the API call sequences\n",
    "tokenizer = Tokenizer()\n",
    "tokenizer.fit_on_texts(df['api_calls'])\n",
    "\n",
    "# Convert sequences to numerical representations\n",
    "sequences = tokenizer.texts_to_sequences(df['api_calls'])\n",
    "\n",
    "# Define the maximum sequence length\n",
    "max_seq_length = 500\n",
    "\n",
    "# Pad the sequences\n",
    "padded_sequences = pad_sequences(sequences, maxlen=max_seq_length, padding='post')\n",
    "\n",
    "from sklearn.model_selection import train_test_split\n",
    "\n",
    "# Split the data into training and validation sets\n",
    "X_train_trojan, X_val_trojan, y_train_trojan, y_val_trojan = train_test_split(padded_sequences, labels, test_size=0.2, random_state=42, stratify=labels)"
   ]
  },
  {
   "cell_type": "code",
   "execution_count": null,
   "metadata": {},
   "outputs": [],
   "source": [
    "import numpy as np\n",
    "import pandas as pd\n",
    "from tensorflow.keras.preprocessing.text import Tokenizer\n",
    "from tensorflow.keras.preprocessing.sequence import pad_sequences\n",
    "from sklearn.preprocessing import LabelEncoder\n",
    "import joblib\n",
    "from tensorflow.keras.utils import to_categorical\n",
    "\n",
    "\n",
    "# Read the CSV file\n",
    "df = pd.read_csv('api_calls_labeled_dataset.csv')\n",
    "df = df.sample(frac=1, random_state=42).reset_index(drop=True)\n",
    "\n",
    "df = df[df['detection'] != 'ransomware']\n",
    "df = df[df['detection'] != 'rootkit']\n",
    "df = df[df['detection'] != 'other']\n",
    "df = df[df['detection'] != 'trojan']\n",
    "\n",
    "benign_samples = df[df['detection'] == 'benign'].sample(n=1000, replace=True, random_state=42)\n",
    "other_samples = df[df['detection'] != 'benign'].groupby('detection').apply(lambda x: x.sample(n=200, replace=True, random_state=42)).reset_index(drop=True)\n",
    "df = pd.concat([benign_samples, other_samples]).reset_index(drop=True)\n",
    "print(df['detection'].value_counts())\n",
    "\n",
    "# Initialize the LabelEncoder\n",
    "label_encoder = LabelEncoder()\n",
    "\n",
    "# Fit and transform the labels\n",
    "labels = label_encoder.fit_transform(df['detection'])\n",
    "\n",
    "# Tokenize the API call sequences\n",
    "tokenizer = Tokenizer()\n",
    "tokenizer.fit_on_texts(df['api_calls'])\n",
    "\n",
    "# Convert sequences to numerical representations\n",
    "sequences = tokenizer.texts_to_sequences(df['api_calls'])\n",
    "\n",
    "# Define the maximum sequence length\n",
    "max_seq_length = 500\n",
    "\n",
    "# Pad the sequences\n",
    "padded_sequences = pad_sequences(sequences, maxlen=max_seq_length, padding='post')\n",
    "\n",
    "categorical_labels = to_categorical(labels)\n",
    "\n",
    "from sklearn.model_selection import train_test_split\n",
    "\n",
    "# Split the data into training and validation sets\n",
    "X_train_class_5, X_val_class_5, y_train_class_5, y_val_class_5 = train_test_split(padded_sequences, categorical_labels, test_size=0.2, random_state=42, stratify=categorical_labels)\n"
   ]
  },
  {
   "cell_type": "code",
   "execution_count": null,
   "metadata": {},
   "outputs": [],
   "source": [
    "from tensorflow.keras.models import Model\n",
    "from tensorflow.keras.layers import Embedding, LSTM, Dense, Dropout, Input\n",
    "from tensorflow.keras.regularizers import l2\n",
    "\n",
    "# Input layer\n",
    "input_layer = Input(shape=(max_seq_length,))\n",
    "\n",
    "# Shared embedding layer\n",
    "embedding_layer = Embedding(input_dim=len(tokenizer.word_index) + 1, output_dim=64)(input_layer)\n",
    "\n",
    "# First LSTM branch for 5-class classification\n",
    "lstm_branch1 = LSTM(64, return_sequences=True, kernel_regularizer=l2(0.01))(embedding_layer)\n",
    "lstm_branch1 = Dropout(0.3)(lstm_branch1)\n",
    "lstm_branch1 = LSTM(16, kernel_regularizer=l2(0.01))(lstm_branch1)\n",
    "lstm_branch1 = Dropout(0.3)(lstm_branch1)\n",
    "output1 = Dense(5, activation='softmax', name='class_5')(lstm_branch1)\n",
    "\n",
    "# Second LSTM branch for binary classification (e.g., trojan vs. non-trojan)\n",
    "lstm_branch2 = LSTM(8, return_sequences=True, kernel_regularizer=l2(0.01))(embedding_layer)\n",
    "lstm_branch2 = Dropout(0.25)(lstm_branch2)\n",
    "lstm_branch2 = LSTM(4, kernel_regularizer=l2(0.01))(lstm_branch2)\n",
    "lstm_branch2 = Dropout(0.5)(lstm_branch2)\n",
    "output2 = Dense(1, activation='sigmoid', name='class_trojan')(lstm_branch2)\n",
    "\n",
    "# Combine the two branches into a single model\n",
    "model = Model(inputs=input_layer, outputs=[output1, output2])\n",
    "\n",
    "# Compile the model with different losses and metrics for each output\n",
    "model.compile(optimizer='adam',\n",
    "              loss={'class_5': 'categorical_crossentropy', 'class_trojan': 'binary_crossentropy'},\n",
    "              metrics={'class_5': 'accuracy', 'class_trojan': 'accuracy'})\n",
    "\n",
    "model.summary()\n"
   ]
  },
  {
   "cell_type": "markdown",
   "metadata": {},
   "source": [
    "<h3> Train model </h3>"
   ]
  },
  {
   "cell_type": "markdown",
   "metadata": {},
   "source": [
    "<h1>K-Fold Cross Validation</h1>"
   ]
  },
  {
   "cell_type": "code",
   "execution_count": 45,
   "metadata": {},
   "outputs": [
    {
     "name": "stdout",
     "output_type": "stream",
     "text": [
      "Epoch 1/10\n",
      "\u001b[1m58/58\u001b[0m \u001b[32m━━━━━━━━━━━━━━━━━━━━\u001b[0m\u001b[37m\u001b[0m \u001b[1m13s\u001b[0m 180ms/step - accuracy: 0.4297 - categorical_crossentropy: 1.8836 - loss: 1.9301 - val_accuracy: 0.5043 - val_categorical_crossentropy: 1.2703 - val_loss: 1.3073\n",
      "Epoch 2/10\n",
      "\u001b[1m58/58\u001b[0m \u001b[32m━━━━━━━━━━━━━━━━━━━━\u001b[0m\u001b[37m\u001b[0m \u001b[1m18s\u001b[0m 143ms/step - accuracy: 0.5631 - categorical_crossentropy: 1.1900 - loss: 1.2274 - val_accuracy: 0.6522 - val_categorical_crossentropy: 0.9439 - val_loss: 0.9855\n",
      "Epoch 3/10\n",
      "\u001b[1m58/58\u001b[0m \u001b[32m━━━━━━━━━━━━━━━━━━━━\u001b[0m\u001b[37m\u001b[0m \u001b[1m6s\u001b[0m 96ms/step - accuracy: 0.6707 - categorical_crossentropy: 0.9053 - loss: 0.9491 - val_accuracy: 0.6957 - val_categorical_crossentropy: 0.8086 - val_loss: 0.8547\n",
      "Epoch 4/10\n",
      "\u001b[1m58/58\u001b[0m \u001b[32m━━━━━━━━━━━━━━━━━━━━\u001b[0m\u001b[37m\u001b[0m \u001b[1m5s\u001b[0m 92ms/step - accuracy: 0.7767 - categorical_crossentropy: 0.6436 - loss: 0.6901 - val_accuracy: 0.7130 - val_categorical_crossentropy: 0.7852 - val_loss: 0.8351\n",
      "Epoch 5/10\n",
      "\u001b[1m58/58\u001b[0m \u001b[32m━━━━━━━━━━━━━━━━━━━━\u001b[0m\u001b[37m\u001b[0m \u001b[1m5s\u001b[0m 91ms/step - accuracy: 0.8172 - categorical_crossentropy: 0.5096 - loss: 0.5598 - val_accuracy: 0.7609 - val_categorical_crossentropy: 0.6930 - val_loss: 0.7441\n",
      "Epoch 6/10\n",
      "\u001b[1m58/58\u001b[0m \u001b[32m━━━━━━━━━━━━━━━━━━━━\u001b[0m\u001b[37m\u001b[0m \u001b[1m5s\u001b[0m 89ms/step - accuracy: 0.8900 - categorical_crossentropy: 0.3821 - loss: 0.4337 - val_accuracy: 0.7587 - val_categorical_crossentropy: 0.6721 - val_loss: 0.7233\n",
      "Epoch 7/10\n",
      "\u001b[1m58/58\u001b[0m \u001b[32m━━━━━━━━━━━━━━━━━━━━\u001b[0m\u001b[37m\u001b[0m \u001b[1m5s\u001b[0m 89ms/step - accuracy: 0.8797 - categorical_crossentropy: 0.3782 - loss: 0.4305 - val_accuracy: 0.7826 - val_categorical_crossentropy: 0.6833 - val_loss: 0.7329\n",
      "Epoch 8/10\n",
      "\u001b[1m58/58\u001b[0m \u001b[32m━━━━━━━━━━━━━━━━━━━━\u001b[0m\u001b[37m\u001b[0m \u001b[1m8s\u001b[0m 132ms/step - accuracy: 0.9173 - categorical_crossentropy: 0.2882 - loss: 0.3383 - val_accuracy: 0.7652 - val_categorical_crossentropy: 0.7316 - val_loss: 0.7800\n",
      "Epoch 9/10\n",
      "\u001b[1m58/58\u001b[0m \u001b[32m━━━━━━━━━━━━━━━━━━━━\u001b[0m\u001b[37m\u001b[0m \u001b[1m12s\u001b[0m 159ms/step - accuracy: 0.9257 - categorical_crossentropy: 0.2633 - loss: 0.3127 - val_accuracy: 0.7543 - val_categorical_crossentropy: 0.8631 - val_loss: 0.9134\n",
      "Epoch 10/10\n",
      "\u001b[1m58/58\u001b[0m \u001b[32m━━━━━━━━━━━━━━━━━━━━\u001b[0m\u001b[37m\u001b[0m \u001b[1m9s\u001b[0m 156ms/step - accuracy: 0.8987 - categorical_crossentropy: 0.3070 - loss: 0.3589 - val_accuracy: 0.7891 - val_categorical_crossentropy: 0.7200 - val_loss: 0.7709\n",
      "\u001b[1m15/15\u001b[0m \u001b[32m━━━━━━━━━━━━━━━━━━━━\u001b[0m\u001b[37m\u001b[0m \u001b[1m1s\u001b[0m 67ms/step - accuracy: 0.8745 - categorical_crossentropy: 0.4511 - loss: 0.5021\n",
      "Fold results: [0.7709023952484131, 0.7199710607528687, 0.789130449295044]\n",
      "Fold validation accuracy: 0.789130449295044\n",
      "Fold validation loss: 0.7199710607528687\n",
      "Epoch 1/10\n",
      "\u001b[1m58/58\u001b[0m \u001b[32m━━━━━━━━━━━━━━━━━━━━\u001b[0m\u001b[37m\u001b[0m \u001b[1m13s\u001b[0m 174ms/step - accuracy: 0.4718 - categorical_crossentropy: 1.6727 - loss: 1.7165 - val_accuracy: 0.5826 - val_categorical_crossentropy: 1.1112 - val_loss: 1.1465\n",
      "Epoch 2/10\n",
      "\u001b[1m58/58\u001b[0m \u001b[32m━━━━━━━━━━━━━━━━━━━━\u001b[0m\u001b[37m\u001b[0m \u001b[1m9s\u001b[0m 156ms/step - accuracy: 0.6204 - categorical_crossentropy: 1.0290 - loss: 1.0652 - val_accuracy: 0.6000 - val_categorical_crossentropy: 1.2778 - val_loss: 1.3149\n",
      "Epoch 3/10\n",
      "\u001b[1m58/58\u001b[0m \u001b[32m━━━━━━━━━━━━━━━━━━━━\u001b[0m\u001b[37m\u001b[0m \u001b[1m10s\u001b[0m 158ms/step - accuracy: 0.6584 - categorical_crossentropy: 0.9270 - loss: 0.9670 - val_accuracy: 0.7109 - val_categorical_crossentropy: 0.8476 - val_loss: 0.8912\n",
      "Epoch 4/10\n",
      "\u001b[1m58/58\u001b[0m \u001b[32m━━━━━━━━━━━━━━━━━━━━\u001b[0m\u001b[37m\u001b[0m \u001b[1m10s\u001b[0m 155ms/step - accuracy: 0.7798 - categorical_crossentropy: 0.6205 - loss: 0.6653 - val_accuracy: 0.7326 - val_categorical_crossentropy: 0.7859 - val_loss: 0.8303\n",
      "Epoch 5/10\n",
      "\u001b[1m58/58\u001b[0m \u001b[32m━━━━━━━━━━━━━━━━━━━━\u001b[0m\u001b[37m\u001b[0m \u001b[1m10s\u001b[0m 156ms/step - accuracy: 0.8448 - categorical_crossentropy: 0.4885 - loss: 0.5335 - val_accuracy: 0.7652 - val_categorical_crossentropy: 0.7700 - val_loss: 0.8185\n",
      "Epoch 6/10\n",
      "\u001b[1m58/58\u001b[0m \u001b[32m━━━━━━━━━━━━━━━━━━━━\u001b[0m\u001b[37m\u001b[0m \u001b[1m11s\u001b[0m 165ms/step - accuracy: 0.8547 - categorical_crossentropy: 0.4282 - loss: 0.4775 - val_accuracy: 0.7674 - val_categorical_crossentropy: 0.7943 - val_loss: 0.8454\n",
      "Epoch 7/10\n",
      "\u001b[1m58/58\u001b[0m \u001b[32m━━━━━━━━━━━━━━━━━━━━\u001b[0m\u001b[37m\u001b[0m \u001b[1m9s\u001b[0m 137ms/step - accuracy: 0.9073 - categorical_crossentropy: 0.3288 - loss: 0.3799 - val_accuracy: 0.7717 - val_categorical_crossentropy: 0.7721 - val_loss: 0.8216\n",
      "Epoch 8/10\n",
      "\u001b[1m58/58\u001b[0m \u001b[32m━━━━━━━━━━━━━━━━━━━━\u001b[0m\u001b[37m\u001b[0m \u001b[1m8s\u001b[0m 136ms/step - accuracy: 0.8966 - categorical_crossentropy: 0.3688 - loss: 0.4203 - val_accuracy: 0.7413 - val_categorical_crossentropy: 0.9037 - val_loss: 0.9590\n",
      "Epoch 9/10\n",
      "\u001b[1m58/58\u001b[0m \u001b[32m━━━━━━━━━━━━━━━━━━━━\u001b[0m\u001b[37m\u001b[0m \u001b[1m10s\u001b[0m 136ms/step - accuracy: 0.8698 - categorical_crossentropy: 0.4366 - loss: 0.4939 - val_accuracy: 0.7891 - val_categorical_crossentropy: 0.8358 - val_loss: 0.8943\n",
      "Epoch 10/10\n",
      "\u001b[1m58/58\u001b[0m \u001b[32m━━━━━━━━━━━━━━━━━━━━\u001b[0m\u001b[37m\u001b[0m \u001b[1m11s\u001b[0m 153ms/step - accuracy: 0.9168 - categorical_crossentropy: 0.2928 - loss: 0.3511 - val_accuracy: 0.7783 - val_categorical_crossentropy: 0.8551 - val_loss: 0.9080\n",
      "\u001b[1m15/15\u001b[0m \u001b[32m━━━━━━━━━━━━━━━━━━━━\u001b[0m\u001b[37m\u001b[0m \u001b[1m1s\u001b[0m 75ms/step - accuracy: 0.8613 - categorical_crossentropy: 0.5625 - loss: 0.6155\n",
      "Fold results: [0.9080418944358826, 0.8550835251808167, 0.7782608866691589]\n",
      "Fold validation accuracy: 0.7782608866691589\n",
      "Fold validation loss: 0.8550835251808167\n",
      "Epoch 1/10\n",
      "\u001b[1m58/58\u001b[0m \u001b[32m━━━━━━━━━━━━━━━━━━━━\u001b[0m\u001b[37m\u001b[0m \u001b[1m12s\u001b[0m 159ms/step - accuracy: 0.4661 - categorical_crossentropy: 1.8271 - loss: 1.8728 - val_accuracy: 0.5957 - val_categorical_crossentropy: 1.1467 - val_loss: 1.1827\n",
      "Epoch 2/10\n",
      "\u001b[1m58/58\u001b[0m \u001b[32m━━━━━━━━━━━━━━━━━━━━\u001b[0m\u001b[37m\u001b[0m \u001b[1m10s\u001b[0m 153ms/step - accuracy: 0.5970 - categorical_crossentropy: 1.0907 - loss: 1.1264 - val_accuracy: 0.6217 - val_categorical_crossentropy: 0.9922 - val_loss: 1.0300\n",
      "Epoch 3/10\n",
      "\u001b[1m58/58\u001b[0m \u001b[32m━━━━━━━━━━━━━━━━━━━━\u001b[0m\u001b[37m\u001b[0m \u001b[1m10s\u001b[0m 154ms/step - accuracy: 0.6931 - categorical_crossentropy: 0.8230 - loss: 0.8628 - val_accuracy: 0.7348 - val_categorical_crossentropy: 0.7647 - val_loss: 0.8073\n",
      "Epoch 4/10\n",
      "\u001b[1m58/58\u001b[0m \u001b[32m━━━━━━━━━━━━━━━━━━━━\u001b[0m\u001b[37m\u001b[0m \u001b[1m10s\u001b[0m 156ms/step - accuracy: 0.7575 - categorical_crossentropy: 0.6552 - loss: 0.6994 - val_accuracy: 0.7543 - val_categorical_crossentropy: 0.6736 - val_loss: 0.7212\n",
      "Epoch 5/10\n",
      "\u001b[1m58/58\u001b[0m \u001b[32m━━━━━━━━━━━━━━━━━━━━\u001b[0m\u001b[37m\u001b[0m \u001b[1m10s\u001b[0m 158ms/step - accuracy: 0.8325 - categorical_crossentropy: 0.5126 - loss: 0.5629 - val_accuracy: 0.7543 - val_categorical_crossentropy: 0.9129 - val_loss: 0.9619\n",
      "Epoch 6/10\n",
      "\u001b[1m58/58\u001b[0m \u001b[32m━━━━━━━━━━━━━━━━━━━━\u001b[0m\u001b[37m\u001b[0m \u001b[1m10s\u001b[0m 149ms/step - accuracy: 0.8694 - categorical_crossentropy: 0.4237 - loss: 0.4731 - val_accuracy: 0.7761 - val_categorical_crossentropy: 0.7368 - val_loss: 0.7906\n",
      "Epoch 7/10\n",
      "\u001b[1m58/58\u001b[0m \u001b[32m━━━━━━━━━━━━━━━━━━━━\u001b[0m\u001b[37m\u001b[0m \u001b[1m10s\u001b[0m 148ms/step - accuracy: 0.8955 - categorical_crossentropy: 0.3461 - loss: 0.4002 - val_accuracy: 0.7957 - val_categorical_crossentropy: 0.6328 - val_loss: 0.6884\n",
      "Epoch 8/10\n",
      "\u001b[1m58/58\u001b[0m \u001b[32m━━━━━━━━━━━━━━━━━━━━\u001b[0m\u001b[37m\u001b[0m \u001b[1m10s\u001b[0m 147ms/step - accuracy: 0.8937 - categorical_crossentropy: 0.3377 - loss: 0.3922 - val_accuracy: 0.7935 - val_categorical_crossentropy: 0.6336 - val_loss: 0.6853\n",
      "Epoch 9/10\n",
      "\u001b[1m58/58\u001b[0m \u001b[32m━━━━━━━━━━━━━━━━━━━━\u001b[0m\u001b[37m\u001b[0m \u001b[1m10s\u001b[0m 150ms/step - accuracy: 0.9246 - categorical_crossentropy: 0.2551 - loss: 0.3076 - val_accuracy: 0.6783 - val_categorical_crossentropy: 0.8805 - val_loss: 0.9355\n",
      "Epoch 10/10\n",
      "\u001b[1m58/58\u001b[0m \u001b[32m━━━━━━━━━━━━━━━━━━━━\u001b[0m\u001b[37m\u001b[0m \u001b[1m10s\u001b[0m 152ms/step - accuracy: 0.9055 - categorical_crossentropy: 0.3132 - loss: 0.3740 - val_accuracy: 0.8043 - val_categorical_crossentropy: 0.6634 - val_loss: 0.7249\n",
      "\u001b[1m15/15\u001b[0m \u001b[32m━━━━━━━━━━━━━━━━━━━━\u001b[0m\u001b[37m\u001b[0m \u001b[1m1s\u001b[0m 70ms/step - accuracy: 0.8631 - categorical_crossentropy: 0.5039 - loss: 0.5653\n",
      "Fold results: [0.7248668074607849, 0.6634398102760315, 0.804347813129425]\n",
      "Fold validation accuracy: 0.804347813129425\n",
      "Fold validation loss: 0.6634398102760315\n",
      "Epoch 1/10\n",
      "\u001b[1m58/58\u001b[0m \u001b[32m━━━━━━━━━━━━━━━━━━━━\u001b[0m\u001b[37m\u001b[0m \u001b[1m13s\u001b[0m 159ms/step - accuracy: 0.4664 - categorical_crossentropy: 1.9095 - loss: 1.9577 - val_accuracy: 0.5587 - val_categorical_crossentropy: 1.2428 - val_loss: 1.2808\n",
      "Epoch 2/10\n",
      "\u001b[1m58/58\u001b[0m \u001b[32m━━━━━━━━━━━━━━━━━━━━\u001b[0m\u001b[37m\u001b[0m \u001b[1m10s\u001b[0m 157ms/step - accuracy: 0.5812 - categorical_crossentropy: 1.1544 - loss: 1.1917 - val_accuracy: 0.6283 - val_categorical_crossentropy: 1.1454 - val_loss: 1.1883\n",
      "Epoch 3/10\n",
      "\u001b[1m58/58\u001b[0m \u001b[32m━━━━━━━━━━━━━━━━━━━━\u001b[0m\u001b[37m\u001b[0m \u001b[1m9s\u001b[0m 154ms/step - accuracy: 0.6786 - categorical_crossentropy: 1.0006 - loss: 1.0458 - val_accuracy: 0.6696 - val_categorical_crossentropy: 0.9438 - val_loss: 0.9875\n",
      "Epoch 4/10\n",
      "\u001b[1m58/58\u001b[0m \u001b[32m━━━━━━━━━━━━━━━━━━━━\u001b[0m\u001b[37m\u001b[0m \u001b[1m10s\u001b[0m 156ms/step - accuracy: 0.7710 - categorical_crossentropy: 0.7231 - loss: 0.7669 - val_accuracy: 0.6652 - val_categorical_crossentropy: 0.8956 - val_loss: 0.9398\n",
      "Epoch 5/10\n",
      "\u001b[1m58/58\u001b[0m \u001b[32m━━━━━━━━━━━━━━━━━━━━\u001b[0m\u001b[37m\u001b[0m \u001b[1m10s\u001b[0m 165ms/step - accuracy: 0.8065 - categorical_crossentropy: 0.5931 - loss: 0.6380 - val_accuracy: 0.6957 - val_categorical_crossentropy: 0.8511 - val_loss: 0.8962\n",
      "Epoch 6/10\n",
      "\u001b[1m58/58\u001b[0m \u001b[32m━━━━━━━━━━━━━━━━━━━━\u001b[0m\u001b[37m\u001b[0m \u001b[1m10s\u001b[0m 158ms/step - accuracy: 0.8554 - categorical_crossentropy: 0.4993 - loss: 0.5463 - val_accuracy: 0.7109 - val_categorical_crossentropy: 0.8411 - val_loss: 0.8902\n",
      "Epoch 7/10\n",
      "\u001b[1m58/58\u001b[0m \u001b[32m━━━━━━━━━━━━━━━━━━━━\u001b[0m\u001b[37m\u001b[0m \u001b[1m10s\u001b[0m 153ms/step - accuracy: 0.8958 - categorical_crossentropy: 0.3659 - loss: 0.4152 - val_accuracy: 0.7304 - val_categorical_crossentropy: 0.7948 - val_loss: 0.8450\n",
      "Epoch 8/10\n",
      "\u001b[1m58/58\u001b[0m \u001b[32m━━━━━━━━━━━━━━━━━━━━\u001b[0m\u001b[37m\u001b[0m \u001b[1m10s\u001b[0m 152ms/step - accuracy: 0.9018 - categorical_crossentropy: 0.3106 - loss: 0.3623 - val_accuracy: 0.7435 - val_categorical_crossentropy: 0.8126 - val_loss: 0.8616\n",
      "Epoch 9/10\n",
      "\u001b[1m58/58\u001b[0m \u001b[32m━━━━━━━━━━━━━━━━━━━━\u001b[0m\u001b[37m\u001b[0m \u001b[1m10s\u001b[0m 149ms/step - accuracy: 0.9170 - categorical_crossentropy: 0.2832 - loss: 0.3329 - val_accuracy: 0.7413 - val_categorical_crossentropy: 0.8976 - val_loss: 0.9499\n",
      "Epoch 10/10\n",
      "\u001b[1m58/58\u001b[0m \u001b[32m━━━━━━━━━━━━━━━━━━━━\u001b[0m\u001b[37m\u001b[0m \u001b[1m10s\u001b[0m 154ms/step - accuracy: 0.9256 - categorical_crossentropy: 0.2632 - loss: 0.3130 - val_accuracy: 0.7391 - val_categorical_crossentropy: 0.9018 - val_loss: 0.9499\n",
      "\u001b[1m15/15\u001b[0m \u001b[32m━━━━━━━━━━━━━━━━━━━━\u001b[0m\u001b[37m\u001b[0m \u001b[1m1s\u001b[0m 77ms/step - accuracy: 0.8379 - categorical_crossentropy: 0.5952 - loss: 0.6433\n",
      "Fold results: [0.9498623013496399, 0.9017714858055115, 0.739130437374115]\n",
      "Fold validation accuracy: 0.739130437374115\n",
      "Fold validation loss: 0.9017714858055115\n",
      "Epoch 1/10\n",
      "\u001b[1m58/58\u001b[0m \u001b[32m━━━━━━━━━━━━━━━━━━━━\u001b[0m\u001b[37m\u001b[0m \u001b[1m12s\u001b[0m 162ms/step - accuracy: 0.4764 - categorical_crossentropy: 1.6780 - loss: 1.7221 - val_accuracy: 0.5217 - val_categorical_crossentropy: 1.3052 - val_loss: 1.3398\n",
      "Epoch 2/10\n",
      "\u001b[1m58/58\u001b[0m \u001b[32m━━━━━━━━━━━━━━━━━━━━\u001b[0m\u001b[37m\u001b[0m \u001b[1m10s\u001b[0m 150ms/step - accuracy: 0.5980 - categorical_crossentropy: 1.1011 - loss: 1.1372 - val_accuracy: 0.4826 - val_categorical_crossentropy: 1.4439 - val_loss: 1.4860\n",
      "Epoch 3/10\n",
      "\u001b[1m58/58\u001b[0m \u001b[32m━━━━━━━━━━━━━━━━━━━━\u001b[0m\u001b[37m\u001b[0m \u001b[1m9s\u001b[0m 155ms/step - accuracy: 0.5680 - categorical_crossentropy: 1.2198 - loss: 1.2631 - val_accuracy: 0.6065 - val_categorical_crossentropy: 1.0895 - val_loss: 1.1319\n",
      "Epoch 4/10\n",
      "\u001b[1m58/58\u001b[0m \u001b[32m━━━━━━━━━━━━━━━━━━━━\u001b[0m\u001b[37m\u001b[0m \u001b[1m9s\u001b[0m 152ms/step - accuracy: 0.7060 - categorical_crossentropy: 0.8018 - loss: 0.8447 - val_accuracy: 0.7174 - val_categorical_crossentropy: 0.8635 - val_loss: 0.9071\n",
      "Epoch 5/10\n",
      "\u001b[1m58/58\u001b[0m \u001b[32m━━━━━━━━━━━━━━━━━━━━\u001b[0m\u001b[37m\u001b[0m \u001b[1m10s\u001b[0m 149ms/step - accuracy: 0.8003 - categorical_crossentropy: 0.5932 - loss: 0.6364 - val_accuracy: 0.7109 - val_categorical_crossentropy: 0.8037 - val_loss: 0.8494\n",
      "Epoch 6/10\n",
      "\u001b[1m58/58\u001b[0m \u001b[32m━━━━━━━━━━━━━━━━━━━━\u001b[0m\u001b[37m\u001b[0m \u001b[1m11s\u001b[0m 153ms/step - accuracy: 0.8566 - categorical_crossentropy: 0.4373 - loss: 0.4852 - val_accuracy: 0.7391 - val_categorical_crossentropy: 0.7658 - val_loss: 0.8155\n",
      "Epoch 7/10\n",
      "\u001b[1m58/58\u001b[0m \u001b[32m━━━━━━━━━━━━━━━━━━━━\u001b[0m\u001b[37m\u001b[0m \u001b[1m10s\u001b[0m 146ms/step - accuracy: 0.8706 - categorical_crossentropy: 0.4336 - loss: 0.4837 - val_accuracy: 0.7217 - val_categorical_crossentropy: 0.7760 - val_loss: 0.8264\n",
      "Epoch 8/10\n",
      "\u001b[1m58/58\u001b[0m \u001b[32m━━━━━━━━━━━━━━━━━━━━\u001b[0m\u001b[37m\u001b[0m \u001b[1m8s\u001b[0m 144ms/step - accuracy: 0.8563 - categorical_crossentropy: 0.4216 - loss: 0.4735 - val_accuracy: 0.7674 - val_categorical_crossentropy: 0.7684 - val_loss: 0.8234\n",
      "Epoch 9/10\n",
      "\u001b[1m58/58\u001b[0m \u001b[32m━━━━━━━━━━━━━━━━━━━━\u001b[0m\u001b[37m\u001b[0m \u001b[1m11s\u001b[0m 158ms/step - accuracy: 0.8345 - categorical_crossentropy: 0.5793 - loss: 0.6413 - val_accuracy: 0.6435 - val_categorical_crossentropy: 1.5234 - val_loss: 1.6334\n",
      "Epoch 10/10\n",
      "\u001b[1m58/58\u001b[0m \u001b[32m━━━━━━━━━━━━━━━━━━━━\u001b[0m\u001b[37m\u001b[0m \u001b[1m9s\u001b[0m 152ms/step - accuracy: 0.7903 - categorical_crossentropy: 0.8763 - loss: 0.9807 - val_accuracy: 0.7087 - val_categorical_crossentropy: 0.8191 - val_loss: 0.9110\n",
      "\u001b[1m15/15\u001b[0m \u001b[32m━━━━━━━━━━━━━━━━━━━━\u001b[0m\u001b[37m\u001b[0m \u001b[1m1s\u001b[0m 71ms/step - accuracy: 0.7557 - categorical_crossentropy: 0.6692 - loss: 0.7611\n",
      "Fold results: [0.9109841585159302, 0.819136381149292, 0.708695650100708]\n",
      "Fold validation accuracy: 0.708695650100708\n",
      "Fold validation loss: 0.819136381149292\n"
     ]
    }
   ],
   "source": [
    "from sklearn.model_selection import KFold\n",
    "from keras.models import load_model\n",
    "\n",
    "# Initialize KFold\n",
    "k = 5\n",
    "kf = KFold(n_splits=k, shuffle=True, random_state=42)\n",
    "\n",
    "# Store metrics for each fold\n",
    "fold_accuracies = []\n",
    "fold_losses = []\n",
    "\n",
    "for train_index, val_index in kf.split(padded_sequences):\n",
    "    X_train, X_val = padded_sequences[train_index], padded_sequences[val_index]\n",
    "    y_train, y_val = categorical_labels[train_index], categorical_labels[val_index]\n",
    "    \n",
    "    # Load the pre-trained LSTM model\n",
    "    model = load_model('./fine-tuned_models/lstm/lstm_api-call_balanced.keras')\n",
    "\n",
    "    model.compile(optimizer='adam', loss='categorical_crossentropy', metrics=['categorical_crossentropy', 'accuracy'])\n",
    "    \n",
    "    # Train the model\n",
    "    model.fit(X_train, y_train, epochs=10, batch_size=32, validation_data=(X_val, y_val))\n",
    "    \n",
    "    # Evaluate the model on the validation set\n",
    "    results = model.evaluate(X_val, y_val)\n",
    "    print(f\"Fold results: {results}\")\n",
    "    loss = results[1]\n",
    "    accuracy = results[2]\n",
    "\n",
    "    fold_accuracies.append(accuracy)\n",
    "    fold_losses.append(loss)    \n",
    "    print(f\"Fold validation accuracy: {accuracy}\")\n",
    "    print(f\"Fold validation loss: {loss}\")"
   ]
  },
  {
   "cell_type": "code",
   "execution_count": 31,
   "metadata": {},
   "outputs": [
    {
     "name": "stdout",
     "output_type": "stream",
     "text": [
      "Average validation accuracy: 0.9221739053726197\n",
      "Average validation loss: 0.2988212168216705\n"
     ]
    }
   ],
   "source": [
    "# Calculate the average accuracy across all folds\n",
    "average_accuracy = np.mean(fold_accuracies)\n",
    "average_loss = np.mean(fold_losses)\n",
    "print(f\"Average validation accuracy: {average_accuracy}\")\n",
    "print(f\"Average validation loss: {average_loss}\")"
   ]
  },
  {
   "cell_type": "markdown",
   "metadata": {},
   "source": [
    "<h1> Load saved model </h1>"
   ]
  },
  {
   "cell_type": "code",
   "execution_count": 2,
   "metadata": {},
   "outputs": [
    {
     "data": {
      "text/html": [
       "<pre style=\"white-space:pre;overflow-x:auto;line-height:normal;font-family:Menlo,'DejaVu Sans Mono',consolas,'Courier New',monospace\"><span style=\"font-weight: bold\">Model: \"sequential_3\"</span>\n",
       "</pre>\n"
      ],
      "text/plain": [
       "\u001b[1mModel: \"sequential_3\"\u001b[0m\n"
      ]
     },
     "metadata": {},
     "output_type": "display_data"
    },
    {
     "data": {
      "text/html": [
       "<pre style=\"white-space:pre;overflow-x:auto;line-height:normal;font-family:Menlo,'DejaVu Sans Mono',consolas,'Courier New',monospace\">┏━━━━━━━━━━━━━━━━━━━━━━━━━━━━━━━━━┳━━━━━━━━━━━━━━━━━━━━━━━━┳━━━━━━━━━━━━━━━┓\n",
       "┃<span style=\"font-weight: bold\"> Layer (type)                    </span>┃<span style=\"font-weight: bold\"> Output Shape           </span>┃<span style=\"font-weight: bold\">       Param # </span>┃\n",
       "┡━━━━━━━━━━━━━━━━━━━━━━━━━━━━━━━━━╇━━━━━━━━━━━━━━━━━━━━━━━━╇━━━━━━━━━━━━━━━┩\n",
       "│ embedding_3 (<span style=\"color: #0087ff; text-decoration-color: #0087ff\">Embedding</span>)         │ (<span style=\"color: #00d7ff; text-decoration-color: #00d7ff\">None</span>, <span style=\"color: #00af00; text-decoration-color: #00af00\">500</span>, <span style=\"color: #00af00; text-decoration-color: #00af00\">64</span>)        │     <span style=\"color: #00af00; text-decoration-color: #00af00\">5,734,976</span> │\n",
       "├─────────────────────────────────┼────────────────────────┼───────────────┤\n",
       "│ lstm_6 (<span style=\"color: #0087ff; text-decoration-color: #0087ff\">LSTM</span>)                   │ (<span style=\"color: #00d7ff; text-decoration-color: #00d7ff\">None</span>, <span style=\"color: #00af00; text-decoration-color: #00af00\">500</span>, <span style=\"color: #00af00; text-decoration-color: #00af00\">96</span>)        │        <span style=\"color: #00af00; text-decoration-color: #00af00\">61,824</span> │\n",
       "├─────────────────────────────────┼────────────────────────┼───────────────┤\n",
       "│ dropout_6 (<span style=\"color: #0087ff; text-decoration-color: #0087ff\">Dropout</span>)             │ (<span style=\"color: #00d7ff; text-decoration-color: #00d7ff\">None</span>, <span style=\"color: #00af00; text-decoration-color: #00af00\">500</span>, <span style=\"color: #00af00; text-decoration-color: #00af00\">96</span>)        │             <span style=\"color: #00af00; text-decoration-color: #00af00\">0</span> │\n",
       "├─────────────────────────────────┼────────────────────────┼───────────────┤\n",
       "│ lstm_7 (<span style=\"color: #0087ff; text-decoration-color: #0087ff\">LSTM</span>)                   │ (<span style=\"color: #00d7ff; text-decoration-color: #00d7ff\">None</span>, <span style=\"color: #00af00; text-decoration-color: #00af00\">32</span>)             │        <span style=\"color: #00af00; text-decoration-color: #00af00\">16,512</span> │\n",
       "├─────────────────────────────────┼────────────────────────┼───────────────┤\n",
       "│ dropout_7 (<span style=\"color: #0087ff; text-decoration-color: #0087ff\">Dropout</span>)             │ (<span style=\"color: #00d7ff; text-decoration-color: #00d7ff\">None</span>, <span style=\"color: #00af00; text-decoration-color: #00af00\">32</span>)             │             <span style=\"color: #00af00; text-decoration-color: #00af00\">0</span> │\n",
       "├─────────────────────────────────┼────────────────────────┼───────────────┤\n",
       "│ dense_3 (<span style=\"color: #0087ff; text-decoration-color: #0087ff\">Dense</span>)                 │ (<span style=\"color: #00d7ff; text-decoration-color: #00d7ff\">None</span>, <span style=\"color: #00af00; text-decoration-color: #00af00\">6</span>)              │           <span style=\"color: #00af00; text-decoration-color: #00af00\">198</span> │\n",
       "└─────────────────────────────────┴────────────────────────┴───────────────┘\n",
       "</pre>\n"
      ],
      "text/plain": [
       "┏━━━━━━━━━━━━━━━━━━━━━━━━━━━━━━━━━┳━━━━━━━━━━━━━━━━━━━━━━━━┳━━━━━━━━━━━━━━━┓\n",
       "┃\u001b[1m \u001b[0m\u001b[1mLayer (type)                   \u001b[0m\u001b[1m \u001b[0m┃\u001b[1m \u001b[0m\u001b[1mOutput Shape          \u001b[0m\u001b[1m \u001b[0m┃\u001b[1m \u001b[0m\u001b[1m      Param #\u001b[0m\u001b[1m \u001b[0m┃\n",
       "┡━━━━━━━━━━━━━━━━━━━━━━━━━━━━━━━━━╇━━━━━━━━━━━━━━━━━━━━━━━━╇━━━━━━━━━━━━━━━┩\n",
       "│ embedding_3 (\u001b[38;5;33mEmbedding\u001b[0m)         │ (\u001b[38;5;45mNone\u001b[0m, \u001b[38;5;34m500\u001b[0m, \u001b[38;5;34m64\u001b[0m)        │     \u001b[38;5;34m5,734,976\u001b[0m │\n",
       "├─────────────────────────────────┼────────────────────────┼───────────────┤\n",
       "│ lstm_6 (\u001b[38;5;33mLSTM\u001b[0m)                   │ (\u001b[38;5;45mNone\u001b[0m, \u001b[38;5;34m500\u001b[0m, \u001b[38;5;34m96\u001b[0m)        │        \u001b[38;5;34m61,824\u001b[0m │\n",
       "├─────────────────────────────────┼────────────────────────┼───────────────┤\n",
       "│ dropout_6 (\u001b[38;5;33mDropout\u001b[0m)             │ (\u001b[38;5;45mNone\u001b[0m, \u001b[38;5;34m500\u001b[0m, \u001b[38;5;34m96\u001b[0m)        │             \u001b[38;5;34m0\u001b[0m │\n",
       "├─────────────────────────────────┼────────────────────────┼───────────────┤\n",
       "│ lstm_7 (\u001b[38;5;33mLSTM\u001b[0m)                   │ (\u001b[38;5;45mNone\u001b[0m, \u001b[38;5;34m32\u001b[0m)             │        \u001b[38;5;34m16,512\u001b[0m │\n",
       "├─────────────────────────────────┼────────────────────────┼───────────────┤\n",
       "│ dropout_7 (\u001b[38;5;33mDropout\u001b[0m)             │ (\u001b[38;5;45mNone\u001b[0m, \u001b[38;5;34m32\u001b[0m)             │             \u001b[38;5;34m0\u001b[0m │\n",
       "├─────────────────────────────────┼────────────────────────┼───────────────┤\n",
       "│ dense_3 (\u001b[38;5;33mDense\u001b[0m)                 │ (\u001b[38;5;45mNone\u001b[0m, \u001b[38;5;34m6\u001b[0m)              │           \u001b[38;5;34m198\u001b[0m │\n",
       "└─────────────────────────────────┴────────────────────────┴───────────────┘\n"
      ]
     },
     "metadata": {},
     "output_type": "display_data"
    },
    {
     "data": {
      "text/html": [
       "<pre style=\"white-space:pre;overflow-x:auto;line-height:normal;font-family:Menlo,'DejaVu Sans Mono',consolas,'Courier New',monospace\"><span style=\"font-weight: bold\"> Total params: </span><span style=\"color: #00af00; text-decoration-color: #00af00\">17,440,532</span> (66.53 MB)\n",
       "</pre>\n"
      ],
      "text/plain": [
       "\u001b[1m Total params: \u001b[0m\u001b[38;5;34m17,440,532\u001b[0m (66.53 MB)\n"
      ]
     },
     "metadata": {},
     "output_type": "display_data"
    },
    {
     "data": {
      "text/html": [
       "<pre style=\"white-space:pre;overflow-x:auto;line-height:normal;font-family:Menlo,'DejaVu Sans Mono',consolas,'Courier New',monospace\"><span style=\"font-weight: bold\"> Trainable params: </span><span style=\"color: #00af00; text-decoration-color: #00af00\">5,813,510</span> (22.18 MB)\n",
       "</pre>\n"
      ],
      "text/plain": [
       "\u001b[1m Trainable params: \u001b[0m\u001b[38;5;34m5,813,510\u001b[0m (22.18 MB)\n"
      ]
     },
     "metadata": {},
     "output_type": "display_data"
    },
    {
     "data": {
      "text/html": [
       "<pre style=\"white-space:pre;overflow-x:auto;line-height:normal;font-family:Menlo,'DejaVu Sans Mono',consolas,'Courier New',monospace\"><span style=\"font-weight: bold\"> Non-trainable params: </span><span style=\"color: #00af00; text-decoration-color: #00af00\">0</span> (0.00 B)\n",
       "</pre>\n"
      ],
      "text/plain": [
       "\u001b[1m Non-trainable params: \u001b[0m\u001b[38;5;34m0\u001b[0m (0.00 B)\n"
      ]
     },
     "metadata": {},
     "output_type": "display_data"
    },
    {
     "data": {
      "text/html": [
       "<pre style=\"white-space:pre;overflow-x:auto;line-height:normal;font-family:Menlo,'DejaVu Sans Mono',consolas,'Courier New',monospace\"><span style=\"font-weight: bold\"> Optimizer params: </span><span style=\"color: #00af00; text-decoration-color: #00af00\">11,627,022</span> (44.35 MB)\n",
       "</pre>\n"
      ],
      "text/plain": [
       "\u001b[1m Optimizer params: \u001b[0m\u001b[38;5;34m11,627,022\u001b[0m (44.35 MB)\n"
      ]
     },
     "metadata": {},
     "output_type": "display_data"
    },
    {
     "name": "stdout",
     "output_type": "stream",
     "text": [
      "{'name': 'sequential_3', 'trainable': True, 'dtype': {'module': 'keras', 'class_name': 'DTypePolicy', 'config': {'name': 'float32'}, 'registered_name': None}, 'layers': [{'module': 'keras.layers', 'class_name': 'InputLayer', 'config': {'batch_shape': (None, 500), 'dtype': 'float32', 'sparse': False, 'name': 'input_layer_3'}, 'registered_name': None}, {'module': 'keras.layers', 'class_name': 'Embedding', 'config': {'name': 'embedding_3', 'trainable': True, 'dtype': {'module': 'keras', 'class_name': 'DTypePolicy', 'config': {'name': 'float32'}, 'registered_name': None}, 'input_dim': 89609, 'output_dim': 64, 'embeddings_initializer': {'module': 'keras.initializers', 'class_name': 'RandomUniform', 'config': {'minval': -0.05, 'maxval': 0.05, 'seed': None}, 'registered_name': None}, 'embeddings_regularizer': None, 'activity_regularizer': None, 'embeddings_constraint': None, 'mask_zero': False}, 'registered_name': None, 'build_config': {'input_shape': [None, 500]}}, {'module': 'keras.layers', 'class_name': 'LSTM', 'config': {'name': 'lstm_6', 'trainable': True, 'dtype': {'module': 'keras', 'class_name': 'DTypePolicy', 'config': {'name': 'float32'}, 'registered_name': None}, 'return_sequences': True, 'return_state': False, 'go_backwards': False, 'stateful': False, 'unroll': False, 'zero_output_for_mask': False, 'units': 96, 'activation': 'tanh', 'recurrent_activation': 'sigmoid', 'use_bias': True, 'kernel_initializer': {'module': 'keras.initializers', 'class_name': 'GlorotUniform', 'config': {'seed': None}, 'registered_name': None}, 'recurrent_initializer': {'module': 'keras.initializers', 'class_name': 'OrthogonalInitializer', 'config': {'gain': 1.0, 'seed': None}, 'registered_name': None}, 'bias_initializer': {'module': 'keras.initializers', 'class_name': 'Zeros', 'config': {}, 'registered_name': None}, 'unit_forget_bias': True, 'kernel_regularizer': {'module': 'keras.regularizers', 'class_name': 'L2', 'config': {'l2': 0.01}, 'registered_name': None}, 'recurrent_regularizer': None, 'bias_regularizer': None, 'activity_regularizer': None, 'kernel_constraint': None, 'recurrent_constraint': None, 'bias_constraint': None, 'dropout': 0.0, 'recurrent_dropout': 0.0, 'seed': None}, 'registered_name': None, 'build_config': {'input_shape': [None, 500, 64]}}, {'module': 'keras.layers', 'class_name': 'Dropout', 'config': {'name': 'dropout_6', 'trainable': True, 'dtype': {'module': 'keras', 'class_name': 'DTypePolicy', 'config': {'name': 'float32'}, 'registered_name': None}, 'rate': 0.2, 'seed': None, 'noise_shape': None}, 'registered_name': None, 'build_config': {'input_shape': [None, 500, 96]}}, {'module': 'keras.layers', 'class_name': 'LSTM', 'config': {'name': 'lstm_7', 'trainable': True, 'dtype': {'module': 'keras', 'class_name': 'DTypePolicy', 'config': {'name': 'float32'}, 'registered_name': None}, 'return_sequences': False, 'return_state': False, 'go_backwards': False, 'stateful': False, 'unroll': False, 'zero_output_for_mask': False, 'units': 32, 'activation': 'tanh', 'recurrent_activation': 'sigmoid', 'use_bias': True, 'kernel_initializer': {'module': 'keras.initializers', 'class_name': 'GlorotUniform', 'config': {'seed': None}, 'registered_name': None}, 'recurrent_initializer': {'module': 'keras.initializers', 'class_name': 'OrthogonalInitializer', 'config': {'gain': 1.0, 'seed': None}, 'registered_name': None}, 'bias_initializer': {'module': 'keras.initializers', 'class_name': 'Zeros', 'config': {}, 'registered_name': None}, 'unit_forget_bias': True, 'kernel_regularizer': {'module': 'keras.regularizers', 'class_name': 'L2', 'config': {'l2': 0.01}, 'registered_name': None}, 'recurrent_regularizer': None, 'bias_regularizer': None, 'activity_regularizer': None, 'kernel_constraint': None, 'recurrent_constraint': None, 'bias_constraint': None, 'dropout': 0.0, 'recurrent_dropout': 0.0, 'seed': None}, 'registered_name': None, 'build_config': {'input_shape': [None, 500, 96]}}, {'module': 'keras.layers', 'class_name': 'Dropout', 'config': {'name': 'dropout_7', 'trainable': True, 'dtype': {'module': 'keras', 'class_name': 'DTypePolicy', 'config': {'name': 'float32'}, 'registered_name': None}, 'rate': 0.2, 'seed': None, 'noise_shape': None}, 'registered_name': None, 'build_config': {'input_shape': [None, 32]}}, {'module': 'keras.layers', 'class_name': 'Dense', 'config': {'name': 'dense_3', 'trainable': True, 'dtype': {'module': 'keras', 'class_name': 'DTypePolicy', 'config': {'name': 'float32'}, 'registered_name': None}, 'units': 6, 'activation': 'softmax', 'use_bias': True, 'kernel_initializer': {'module': 'keras.initializers', 'class_name': 'GlorotUniform', 'config': {'seed': None}, 'registered_name': None}, 'bias_initializer': {'module': 'keras.initializers', 'class_name': 'Zeros', 'config': {}, 'registered_name': None}, 'kernel_regularizer': None, 'bias_regularizer': None, 'kernel_constraint': None, 'bias_constraint': None}, 'registered_name': None, 'build_config': {'input_shape': [None, 32]}}], 'build_input_shape': (None, 500)}\n"
     ]
    }
   ],
   "source": [
    "from keras.models import load_model\n",
    "import tensorflow as tf\n",
    "\n",
    "# Load the pre-trained LSTM model\n",
    "model = load_model('./fine-tuned_models/lstm/lstm_api-call_balanced.keras')\n",
    "\n",
    "# Display model information\n",
    "model.summary()\n",
    "\n",
    "# Print model configuration\n",
    "print(model.get_config())\n",
    "\n",
    "# Clone the model\n",
    "cloned_model = tf.keras.models.clone_model(model)\n",
    "cloned_model.set_weights(model.get_weights())\n",
    "\n",
    "# Compile the cloned model\n",
    "cloned_model.compile(optimizer='adam', loss='categorical_crossentropy', metrics=['accuracy'])\n"
   ]
  },
  {
   "cell_type": "code",
   "execution_count": null,
   "metadata": {},
   "outputs": [],
   "source": [
    "# Continue training the cloned model\n",
    "history = cloned_model.fit(\n",
    "    X_train, \n",
    "    y_train, \n",
    "    epochs=10,  # You can adjust the number of epochs\n",
    "    batch_size=32,\n",
    "    validation_split=0.2,\n",
    "    callbacks=[\n",
    "        tf.keras.callbacks.EarlyStopping(patience=3, restore_best_weights=True),\n",
    "        tf.keras.callbacks.ReduceLROnPlateau(factor=0.5, patience=2),\n",
    "        tf.keras.callbacks.ModelCheckpoint(\n",
    "            filepath='cloned_model.keras',\n",
    "            save_best_only=True,\n",
    "            monitor='val_accuracy',\n",
    "            mode='max'\n",
    "        )\n",
    "    ]\n",
    ")\n",
    "\n",
    "# Evaluate the cloned model\n",
    "test_loss, test_accuracy = cloned_model.evaluate(X_val, y_val)\n",
    "print(f\"Test accuracy of cloned model: {test_accuracy:.4f}\")\n",
    "\n",
    "# Plot the training history\n",
    "plt.figure(figsize=(12, 4))\n",
    "plt.subplot(1, 2, 1)\n",
    "plt.plot(history.history['accuracy'], label='Training Accuracy')\n",
    "plt.plot(history.history['val_accuracy'], label='Validation Accuracy')\n",
    "plt.title('Model Accuracy')\n",
    "plt.xlabel('Epoch')\n",
    "plt.ylabel('Accuracy')\n",
    "plt.legend()\n",
    "\n",
    "plt.subplot(1, 2, 2)\n",
    "plt.plot(history.history['loss'], label='Training Loss')\n",
    "plt.plot(history.history['val_loss'], label='Validation Loss')\n",
    "plt.title('Model Loss')\n",
    "plt.xlabel('Epoch')\n",
    "plt.ylabel('Loss')\n",
    "plt.legend()\n",
    "\n",
    "plt.tight_layout()\n",
    "plt.show()\n"
   ]
  },
  {
   "cell_type": "code",
   "execution_count": null,
   "metadata": {},
   "outputs": [],
   "source": [
    "# Generate predictions using the cloned model\n",
    "y_pred = cloned_model.predict(X_val)\n",
    "y_pred_classes = np.argmax(y_pred, axis=1)\n",
    "y_true = np.argmax(y_val, axis=1)\n",
    "\n",
    "# Generate and print the classification report\n",
    "from sklearn.metrics import classification_report\n",
    "print(\"Classification Report for Cloned Model:\")\n",
    "print(classification_report(y_true, y_pred_classes))\n"
   ]
  },
  {
   "cell_type": "markdown",
   "metadata": {},
   "source": [
    "<h1> Evaluate the model </h1>"
   ]
  },
  {
   "cell_type": "code",
   "execution_count": 36,
   "metadata": {},
   "outputs": [
    {
     "name": "stdout",
     "output_type": "stream",
     "text": [
      "Validation Loss: 0.5153690576553345\n",
      "Validation Accuracy: 0.895652174949646\n",
      "\u001b[1m15/15\u001b[0m \u001b[32m━━━━━━━━━━━━━━━━━━━━\u001b[0m\u001b[37m\u001b[0m \u001b[1m1s\u001b[0m 36ms/step\n",
      "Classification Report:\n",
      "              precision    recall  f1-score   support\n",
      "\n",
      "      adware       0.82      0.83      0.83        60\n",
      "      benign       0.96      0.93      0.94       200\n",
      "     exploit       0.81      0.88      0.84        40\n",
      "    hacktool       0.94      0.85      0.89        40\n",
      "     spyware       0.76      0.85      0.80        40\n",
      "      trojan       0.90      0.93      0.91        80\n",
      "\n",
      "   micro avg       0.90      0.90      0.90       460\n",
      "   macro avg       0.87      0.88      0.87       460\n",
      "weighted avg       0.90      0.90      0.90       460\n",
      " samples avg       0.90      0.90      0.90       460\n",
      "\n"
     ]
    }
   ],
   "source": [
    "from sklearn.metrics import classification_report\n",
    "\n",
    "# Evaluate the model on the validation set\n",
    "loss, accuracy = model.evaluate(X_val, y_val, verbose=0)\n",
    "print(f\"Validation Loss: {loss}\")\n",
    "print(f\"Validation Accuracy: {accuracy}\")\n",
    "\n",
    "# Predict on the validation set\n",
    "y_pred_probs = model.predict(X_val)\n",
    "y_pred = np.zeros_like(y_pred_probs)\n",
    "y_pred[np.arange(len(y_pred_probs)), y_pred_probs.argmax(axis=1)] = 1\n",
    "\n",
    "# Generate a classification report\n",
    "print(\"Classification Report:\")\n",
    "print(classification_report(y_val, y_pred, target_names=label_encoder.classes_))\n",
    "\n",
    "\n"
   ]
  },
  {
   "cell_type": "code",
   "execution_count": 37,
   "metadata": {},
   "outputs": [
    {
     "data": {
      "text/plain": [
       "<sklearn.metrics._plot.confusion_matrix.ConfusionMatrixDisplay at 0x7f5d205f51e0>"
      ]
     },
     "execution_count": 37,
     "metadata": {},
     "output_type": "execute_result"
    },
    {
     "data": {
      "image/png": "[encoded data removed]",
      "text/plain": [
       "<Figure size 640x480 with 2 Axes>"
      ]
     },
     "metadata": {},
     "output_type": "display_data"
    }
   ],
   "source": [
    "from sklearn.metrics import confusion_matrix, ConfusionMatrixDisplay\n",
    "\n",
    "# Ensure y_true and y_pred are in class index format\n",
    "y_true = np.argmax(y_val, axis=1)  # Convert one-hot encoded labels to class indices\n",
    "y_pred = np.argmax(y_pred_probs, axis=1)  # Convert predicted probabilities to class indices\n",
    "\n",
    "\n",
    "# Generate the confusion matrix\n",
    "conf_matrix = confusion_matrix(y_true, y_pred, normalize='true')\n",
    "\n",
    "# Display the confusion matrix\n",
    "disp = ConfusionMatrixDisplay(confusion_matrix=conf_matrix, display_labels=label_encoder.classes_)\n",
    "disp.plot(cmap='Blues')\n",
    "\n"
   ]
  },
  {
   "cell_type": "code",
   "execution_count": 38,
   "metadata": {},
   "outputs": [
    {
     "data": {
      "image/png": "[encoded data removed]",
      "text/plain": [
       "<Figure size 1000x600 with 1 Axes>"
      ]
     },
     "metadata": {},
     "output_type": "display_data"
    }
   ],
   "source": [
    "import matplotlib.pyplot as plt\n",
    "\n",
    "plt.figure(figsize=(10, 6))\n",
    "plt.plot(history.history['loss'], label='Training Loss')\n",
    "plt.plot(history.history['val_loss'], label='Validation Loss')\n",
    "plt.title('Model Learning Curve')\n",
    "plt.xlabel('Epoch')\n",
    "plt.ylabel('Loss')\n",
    "plt.legend()\n",
    "plt.grid(True)\n",
    "plt.show()\n"
   ]
  },
  {
   "cell_type": "code",
   "execution_count": 39,
   "metadata": {},
   "outputs": [
    {
     "data": {
      "image/png": "[encoded data removed]",
      "text/plain": [
       "<Figure size 1000x600 with 1 Axes>"
      ]
     },
     "metadata": {},
     "output_type": "display_data"
    }
   ],
   "source": [
    "# Extract validation and training accuracy from history\n",
    "val_accuracy = history.history['val_accuracy']\n",
    "train_accuracy = history.history['accuracy']\n",
    "epochs = range(1, len(val_accuracy) + 1)\n",
    "\n",
    "# Plot the learning curve\n",
    "plt.figure(figsize=(10, 6))\n",
    "plt.plot(epochs, val_accuracy, 'b-', label='Validation Accuracy')\n",
    "plt.plot(epochs, train_accuracy, 'r-', label='Training Accuracy')\n",
    "plt.title('Learning Curve: Training and Validation Accuracy')\n",
    "plt.xlabel('Epochs')\n",
    "plt.ylabel('Accuracy')\n",
    "plt.legend()\n",
    "plt.grid(True)\n",
    "plt.show()\n"
   ]
  },
  {
   "cell_type": "code",
   "execution_count": 41,
   "metadata": {},
   "outputs": [],
   "source": [
    "model.save('lstm_api-call_balanced.keras')"
   ]
  }
 ],
 "metadata": {
  "kernelspec": {
   "display_name": "Python 3",
   "language": "python",
   "name": "python3"
  },
  "language_info": {
   "codemirror_mode": {
    "name": "ipython",
    "version": 3
   },
   "file_extension": ".py",
   "mimetype": "text/x-python",
   "name": "python",
   "nbconvert_exporter": "python",
   "pygments_lexer": "ipython3",
   "version": "3.10.12"
  }
 },
 "nbformat": 4,
 "nbformat_minor": 2
}
